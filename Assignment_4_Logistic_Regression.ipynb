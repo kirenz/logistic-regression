{
 "cells": [
  {
   "cell_type": "markdown",
   "metadata": {},
   "source": [
    "**Applied Statistics**<br/>\n",
    "Prof. Dr. Jan Kirenz <br/>\n",
    "Hochschule der Medien Stuttgart"
   ]
  },
  {
   "cell_type": "code",
   "execution_count": 37,
   "metadata": {},
   "outputs": [],
   "source": [
    "import pandas as pd\n",
    "import numpy as np\n",
    "import matplotlib.pyplot as plt\n",
    "import seaborn as sns\n",
    "import statsmodels.api as sm\n",
    "from scipy.stats import chi2_contingency, fisher_exact\n",
    "from sklearn.model_selection import train_test_split"
   ]
  },
  {
   "cell_type": "markdown",
   "metadata": {},
   "source": [
    "Name:\n",
    "\n",
    "Surname:"
   ]
  },
  {
   "cell_type": "markdown",
   "metadata": {},
   "source": [
    "# Assignment 4: Logistic Regression \n",
    "\n",
    "**Data Description:**\n",
    "\n",
    "The World Happiness Report ranks 156 countries by their happiness levels (`Happiness.Score`). The rankings come from the Gallup World Poll and are based on answers to the main life evaluation question asked in the poll. This is called the Cantril ladder: it asks respondents to think of a ladder, with the best possible life for them being a 10, and the worst possible life being a 0. They are then asked to rate their own current lives on that 0 to 10 scale. The rankings are from nationally representative samples, for the years 2013-2015. They are based entirely on the survey scores, using the Gallup weights to make the estimates representative. \n",
    "\n",
    "The other variables in the dataset show the estimated extent to which each of the factors contribute to making life evaluations higher in each country than they are in Dystopia, a hypothetical country that has values equal to the world’s lowest national averages for each of the factors (for more information about the data, visit this [FAQ-site](https://s3.amazonaws.com/happiness-report/2016/FAQ_2016.pdf) or the [World Happiness Report-site](http://worldhappiness.report/ed/2016/)).\n",
    "\n",
    "**Task Description**\n",
    "\n",
    "In this assignment, we analyse the relationship between the country specific happiness and some predictor variables. In particular, we want to classify which countries are likely to be \"happy\". \n",
    "\n",
    "\n",
    "* Data preparation:\n",
    "\n",
    "  - 1.1 Rename the variables in the DataFrame to 'Country', 'Happiness_Score', 'Economy', 'Family', 'Health' and 'Trust'\n",
    "\n",
    "  - 1.2 Create a new categorical variable called `Happy`, where all countries with a Happiness_Score > 5.5 are labeled with 'Yes', otherwise 'No'.  \n",
    "    \n",
    "  - 1.3 Delete the variable `Happiness_Score` and change the data types if necessary (categorical, float, integer...).\n",
    "\n",
    "  - 1.4 Visualize the distributions of the numerical variables in a histogram: display the distributions of the two groups (Happy: 'Yes' and 'No') in every histograms.  \n",
    "    \n",
    "  - 1.5 Visualize the distributions of the numerical variables in a bosxplot: compare the distributions of the two groups (Happy: 'Yes' and 'No') for every variable. \n",
    "    \n",
    "    \n",
    "* 2. Logistic regression model:\n",
    "\n",
    "* 2. a) Fit a logistic regression model with all predictor variables (response: `Happy`; predictors: `Economy`, `Family`, `Health` and `Trust`).  \n",
    "\n",
    "* 2. b) Please explain wether you would recommend to exclude a predictor variable from your model (from task 2a)). Update your model if necessary.\n",
    "\n",
    "* 2. c) Use your updated model and predict the probability that a country has \"Happy\" inhabitants. Classify a happy country as \"happy\"  (with label 'Yes') if the predicted probability of the happiness exceeds:\n",
    "\n",
    "    - c1): 0.4 (i.e. threshold = 0.4) \n",
    "    - c2): 0.5 (i.e. threshold = 0.5)\n",
    "    - c3): 0.7 (i.e. threshold = 0.7). \n",
    "    \n",
    "    Otherwise classify the country as non-happy (with label 'No').\n",
    "\n",
    "\n",
    "  * 2. d) Compute the confusion matrix for every threshold (c1), c2) and c3)) in order to determine how many observations were correctly or incorrectly classified. Furthermore, use the results from the confusion matrix and create the following variables: true positive; true negative; false positive and false negative. Use these variables to calculate the following measures: \"Accuracy\", Precision\" (what proportion of positive identifications was actually correct?), \"Recall\" (what proportion of actual positives was identified correctly) and the F1 score (measure of a test's accuracy) for the thresholds in c1), c2) and c3). Which threshold would you recommend? \n",
    "\n",
    "Hints: **Precision** is defined as the number of true positives over the number of true positives plus the number of false positives. **Recall** is defined as the number of true positives over the number of true positives plus the number of false negatives. These two quantities are related to the **F1 score**, which is defined as the harmonic mean of precision and recall: $F1 = 2* ((Precision * Recall)/(Precision + Recall)).$\n",
    "\n",
    "* 2. e) Fit the logistic regression model using a training data set. Compute the confusion matrix and accuracy for the held out data (test data size = 30%). Use a threshold of 0.7.\n",
    "\n",
    "---\n",
    "\n",
    "\n",
    "\n",
    "Data Source: \n",
    "\n",
    "Helliwell, J., Layard, R., & Sachs, J. (2016). World Happiness Report 2016, Update (Vol. I).\n",
    "New York: Sustainable Development Solutions Network.\n",
    "\n"
   ]
  }
 ],
 "metadata": {
  "kernelspec": {
   "display_name": "Python 3",
   "language": "python",
   "name": "python3"
  },
  "language_info": {
   "codemirror_mode": {
    "name": "ipython",
    "version": 3
   },
   "file_extension": ".py",
   "mimetype": "text/x-python",
   "name": "python",
   "nbconvert_exporter": "python",
   "pygments_lexer": "ipython3",
   "version": "3.6.5"
  }
 },
 "nbformat": 4,
 "nbformat_minor": 2
}
