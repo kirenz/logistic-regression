{
 "cells": [
  {
   "cell_type": "markdown",
   "metadata": {},
   "source": [
    "**Problem Set Logistic Regression**<br/>\n",
    "Prof. Dr. Jan Kirenz <br/>\n",
    "Hochschule der Medien Stuttgart"
   ]
  },
  {
   "cell_type": "code",
   "execution_count": 1,
   "metadata": {},
   "outputs": [],
   "source": [
    "import pandas as pd\n",
    "import numpy as np\n",
    "import matplotlib.pyplot as plt\n",
    "import seaborn as sns\n",
    "import statsmodels.api as sm\n",
    "from scipy.stats import chi2_contingency, fisher_exact\n",
    "from sklearn.model_selection import train_test_split"
   ]
  },
  {
   "cell_type": "markdown",
   "metadata": {
    "toc": true
   },
   "source": [
    "<h1>Table of Contents<span class=\"tocSkip\"></span></h1>\n",
    "<div class=\"toc\"><ul class=\"toc-item\"><li><span><a href=\"#Import-data\" data-toc-modified-id=\"Import-data-1\"><span class=\"toc-item-num\">1&nbsp;&nbsp;</span>Import data</a></span></li><li><span><a href=\"#Dependent-variable\" data-toc-modified-id=\"Dependent-variable-2\"><span class=\"toc-item-num\">2&nbsp;&nbsp;</span>Dependent variable</a></span></li><li><span><a href=\"#Transform-variables\" data-toc-modified-id=\"Transform-variables-3\"><span class=\"toc-item-num\">3&nbsp;&nbsp;</span>Transform variables</a></span></li><li><span><a href=\"#Data-exploration\" data-toc-modified-id=\"Data-exploration-4\"><span class=\"toc-item-num\">4&nbsp;&nbsp;</span>Data exploration</a></span></li><li><span><a href=\"#Logistic-regression-model\" data-toc-modified-id=\"Logistic-regression-model-5\"><span class=\"toc-item-num\">5&nbsp;&nbsp;</span>Logistic regression model</a></span><ul class=\"toc-item\"><li><span><a href=\"#Fit-logistic-regression\" data-toc-modified-id=\"Fit-logistic-regression-5.1\"><span class=\"toc-item-num\">5.1&nbsp;&nbsp;</span>Fit logistic regression</a></span></li><li><span><a href=\"#Update-model\" data-toc-modified-id=\"Update-model-5.2\"><span class=\"toc-item-num\">5.2&nbsp;&nbsp;</span>Update model</a></span></li><li><span><a href=\"#Prediction\" data-toc-modified-id=\"Prediction-5.3\"><span class=\"toc-item-num\">5.3&nbsp;&nbsp;</span>Prediction</a></span></li><li><span><a href=\"#Confusion-matrix-&amp;-metrics\" data-toc-modified-id=\"Confusion-matrix-&amp;-metrics-5.4\"><span class=\"toc-item-num\">5.4&nbsp;&nbsp;</span>Confusion matrix &amp; metrics</a></span></li><li><span><a href=\"#Use-train-&amp;-test-dataset-for-modelling-and-evaluation\" data-toc-modified-id=\"Use-train-&amp;-test-dataset-for-modelling-and-evaluation-5.5\"><span class=\"toc-item-num\">5.5&nbsp;&nbsp;</span>Use train &amp; test dataset for modelling and evaluation</a></span></li></ul></li><li><span><a href=\"#Import-data\" data-toc-modified-id=\"Import-data-6\"><span class=\"toc-item-num\">6&nbsp;&nbsp;</span>Import data</a></span></li><li><span><a href=\"#Dependent-variable\" data-toc-modified-id=\"Dependent-variable-7\"><span class=\"toc-item-num\">7&nbsp;&nbsp;</span>Dependent variable</a></span><ul class=\"toc-item\"><li><span><a href=\"#Fit-logistic-regression\" data-toc-modified-id=\"Fit-logistic-regression-7.1\"><span class=\"toc-item-num\">7.1&nbsp;&nbsp;</span>Fit logistic regression</a></span></li><li><span><a href=\"#Update-Model\" data-toc-modified-id=\"Update-Model-7.2\"><span class=\"toc-item-num\">7.2&nbsp;&nbsp;</span>Update Model</a></span></li><li><span><a href=\"#Prediction\" data-toc-modified-id=\"Prediction-7.3\"><span class=\"toc-item-num\">7.3&nbsp;&nbsp;</span>Prediction</a></span></li><li><span><a href=\"#Confusion-Matrix-&amp;-Metrics\" data-toc-modified-id=\"Confusion-Matrix-&amp;-Metrics-7.4\"><span class=\"toc-item-num\">7.4&nbsp;&nbsp;</span>Confusion Matrix &amp; Metrics</a></span></li><li><span><a href=\"#Use-Train-&amp;-Test-for-modelling-and-evaluation\" data-toc-modified-id=\"Use-Train-&amp;-Test-for-modelling-and-evaluation-7.5\"><span class=\"toc-item-num\">7.5&nbsp;&nbsp;</span>Use Train &amp; Test for modelling and evaluation</a></span></li></ul></li></ul></div>"
   ]
  },
  {
   "cell_type": "markdown",
   "metadata": {},
   "source": [
    "<br/>\n",
    "\n",
    "<br/>\n",
    "\n",
    "<br/>\n",
    "\n",
    "a\n",
    "\n",
    "a\n",
    "\n",
    "a\n",
    "\n",
    "\n",
    "\n",
    "\n",
    "\n",
    "**Logistic Regression** \n",
    "\n",
    "**Task Description**\n",
    "\n",
    "In this assignment, we analyse the relationship between drinking behavior and some predictor variables in the data `responses.csv`. In particular, we want to classify which respondents are likely to be \"heavy drinker\". \n",
    "\n",
    "The data file `responses.csv` contains the data from a questionnaire and consists of 1010 rows (people) and 150 columns (139 integer and 11 categorical). See the data description PDF for a detailed overview of the data.\n",
    "\n",
    "\n",
    "# Problem set description:\n",
    "\n",
    "## Import data\n",
    "\n",
    "Import the data (responses.csv), call the DataFrame `df` and delete all missing values with  `df.dropna(inplace=True)`. Next, get an overview of the categorical variable `Alcohol` with `df.Alcohol.value_counts()`. We only want to keep respondents who `drink a lot` or `never` drink alcohol. Therefore, delete all respondents who are `social drinkers` with `df = df[df.Alcohol != 'social drinker']`. \n",
    "\n",
    "## Dependent variable\n",
    "\n",
    "Create a new categorical variable called `Drinking`, where all respondents who drink a lot are labeled as `Yes` otherwise `No`: `df['Drinking'] = np.where(df['Alcohol']=='drink a lot', 'Yes', 'No')` . Delete the variable `Alcohol`. \n",
    "    \n",
    "## Transform variables  \n",
    "  \n",
    "Change the data type of variable `Gender` in a numerical format: in particular, use `df['Gender_2'] = pd.factorize( df['Gender'] )[0]` to create a new variable `Gender_2` with the desired format (so it may be used as predictor in the logistic regression).  \n",
    "\n",
    "\n",
    "## Data exploration\n",
    "\n",
    "In a logistic regression, you first need to determine which variables you should include as predictors in your logistic regression model. Remember that your model should classify which of the respondent's is either a heavy drinker or does not drink at all. This means you need to analyze the relationship between the response (`Drinking`) and possible predictor variables, which could explain someones drinking behavior. \n",
    "\n",
    "> a) Interpret the visualizations and explain, whether you would include the variable in your model or not.\n",
    "\n",
    "\n",
    "Hints: \n",
    "\n",
    "- Always look out for variables where you can identify a difference between responses from heavy drinker and non drinker. Use visualisations to analyze the relationship between the variables. Choose at least 4 predictor variables for your model.\n",
    "\n",
    "- In the data, you mainly have to deal with discrete categorical values (i.e. Likert-scale responses). In seaborn, there are several different ways to visualize a relationship between variables involving categorical data. Review [seaborn's documentation about plotting categorical data](https://seaborn.pydata.org/tutorial/categorical.html).\n",
    "\n",
    "\n",
    " - Here are some examples:\n",
    "\n",
    "  - `sns.catplot(x=\"Drinking\", y=\"Darkness\", kind=\"box\", data=df);`\n",
    "\n",
    "  - `sns.catplot(x=\"Gender\", y=\"Age\", hue=\"Drinking\", kind=\"box\", data=df);`\n",
    "\n",
    "  - `sns.catplot(x=\"Gender\", y=\"Cheating in school\", hue=\"Drinking\", kind=\"violin\", data=df);`\n",
    "\n",
    "    \n",
    "    \n",
    "## Logistic regression model\n",
    "\n",
    "\n",
    "### Fit logistic regression\n",
    "\n",
    "Next, we fit a logistic regression model with some predictor variables of our choice (response: `Drinking`).\n",
    "\n",
    "> b) Explain, which of the predictors you would keep and which you would exclude from the model. What is your criterion for the exclusion of predictors?\n",
    "\n",
    "\n",
    "### Update model \n",
    "\n",
    "> c) Take a look at our new logistic regression model and explain whether you would recommend to exclude a predictor variable from the model.\n",
    "\n",
    "\n",
    "### Prediction\n",
    "\n",
    "We use the updated model and predict the probability that a respondent drinks a lot. We classify a respondent as drinker (with label '`Yes`') if the predicted probability exceeds:\n",
    "\n",
    "    - c1): 0.4 (i.e. threshold = 0.4) \n",
    "    - c2): 0.5 (i.e. threshold = 0.5)\n",
    "    - c3): 0.7 (i.e. threshold = 0.7). \n",
    "    \n",
    "Otherwise we classify the respondent as non-drinker (with label '`No`').\n",
    "\n",
    "\n",
    "### Confusion matrix & metrics\n",
    "\n",
    "We compute the confusion matrix for every threshold (c1), c2) and c3)) in order to determine how many observations were correctly or incorrectly classified. Next, we determine the following metrics: \n",
    "\n",
    "- \"Accuracy\", \n",
    "- Precision\" (what proportion of positive identifications was actually correct?), \"\n",
    "- Recall\" (what proportion of actual positives was identified correctly) and the \n",
    "- F1 score (measure of a test's accuracy) for the thresholds in c1), c2) and c3). \n",
    "\n",
    "> d) Interpret the findings. Which threshold would you recommend? Explain your answer.\n",
    "\n",
    "Hints: \n",
    "\n",
    "- **Precision** is defined as the number of true positives over the number of true positives plus the number of false positives. \n",
    "- **Recall** is defined as the number of true positives over the number of true positives plus the number of false negatives. \n",
    "- These two quantities are related to the **F1 score**, which is defined as the harmonic mean of precision and recall: $F1 = 2* ((Precision * Recall)/(Precision + Recall)).$\n",
    "\n",
    "\n",
    "### Use train & test dataset for modelling and evaluation\n",
    "\n",
    "We fit the logistic regression model using a training data set. We then compute the confusion matrix and accuracy for the held out data (test data size = 30%; threshold = 0.7).\n",
    "\n",
    "> e) Interpret the results."
   ]
  },
  {
   "cell_type": "markdown",
   "metadata": {},
   "source": [
    "\n",
    "# Data preparation:\n",
    "\n",
    "## Import data"
   ]
  },
  {
   "cell_type": "code",
   "execution_count": 2,
   "metadata": {
    "scrolled": true
   },
   "outputs": [],
   "source": [
    "# Load the csv data files into pandas dataframes\n",
    "df = pd.read_csv(\"https://raw.githubusercontent.com/kirenz/datasets/master/responses.csv\")\n",
    "df.dropna(inplace=True)"
   ]
  },
  {
   "cell_type": "markdown",
   "metadata": {},
   "source": [
    "## Dependent variable"
   ]
  },
  {
   "cell_type": "code",
   "execution_count": 3,
   "metadata": {},
   "outputs": [
    {
     "data": {
      "text/plain": [
       "social drinker    448\n",
       "drink a lot       153\n",
       "never              73\n",
       "Name: Alcohol, dtype: int64"
      ]
     },
     "execution_count": 3,
     "metadata": {},
     "output_type": "execute_result"
    }
   ],
   "source": [
    "df.Alcohol.value_counts()"
   ]
  },
  {
   "cell_type": "code",
   "execution_count": 4,
   "metadata": {},
   "outputs": [],
   "source": [
    "# delete social drinker\n",
    "df = df[df.Alcohol != 'social drinker']"
   ]
  },
  {
   "cell_type": "code",
   "execution_count": 5,
   "metadata": {},
   "outputs": [
    {
     "data": {
      "text/plain": [
       "drink a lot    153\n",
       "never           73\n",
       "Name: Alcohol, dtype: int64"
      ]
     },
     "execution_count": 5,
     "metadata": {},
     "output_type": "execute_result"
    }
   ],
   "source": [
    "# check\n",
    "df.Alcohol.value_counts()"
   ]
  },
  {
   "cell_type": "code",
   "execution_count": 6,
   "metadata": {
    "scrolled": true
   },
   "outputs": [],
   "source": [
    "# create dependent variable\n",
    "df['Drinking'] = np.where(df['Alcohol']=='drink a lot', 'Yes', 'No')"
   ]
  },
  {
   "cell_type": "code",
   "execution_count": 7,
   "metadata": {},
   "outputs": [
    {
     "data": {
      "text/plain": [
       "Yes    153\n",
       "No      73\n",
       "Name: Drinking, dtype: int64"
      ]
     },
     "execution_count": 7,
     "metadata": {},
     "output_type": "execute_result"
    }
   ],
   "source": [
    "# check\n",
    "df.Drinking.value_counts()"
   ]
  },
  {
   "cell_type": "code",
   "execution_count": 8,
   "metadata": {},
   "outputs": [],
   "source": [
    "df = df.drop('Alcohol', axis=1)"
   ]
  },
  {
   "cell_type": "code",
   "execution_count": 9,
   "metadata": {
    "scrolled": false
   },
   "outputs": [
    {
     "name": "stdout",
     "output_type": "stream",
     "text": [
      "<class 'pandas.core.frame.DataFrame'>\n",
      "Int64Index: 226 entries, 0 to 1005\n",
      "Columns: 150 entries, Music to Drinking\n",
      "dtypes: float64(134), int64(5), object(11)\n",
      "memory usage: 266.6+ KB\n"
     ]
    }
   ],
   "source": [
    "# data overview (with meta data)\n",
    "df.info()"
   ]
  },
  {
   "cell_type": "code",
   "execution_count": 10,
   "metadata": {},
   "outputs": [],
   "source": [
    "# Change data types\n",
    "df['Gender_2'] = pd.factorize( df['Gender'] )[0]"
   ]
  },
  {
   "cell_type": "code",
   "execution_count": 11,
   "metadata": {
    "scrolled": false
   },
   "outputs": [
    {
     "data": {
      "text/html": [
       "<div>\n",
       "<style scoped>\n",
       "    .dataframe tbody tr th:only-of-type {\n",
       "        vertical-align: middle;\n",
       "    }\n",
       "\n",
       "    .dataframe tbody tr th {\n",
       "        vertical-align: top;\n",
       "    }\n",
       "\n",
       "    .dataframe thead th {\n",
       "        text-align: right;\n",
       "    }\n",
       "</style>\n",
       "<table border=\"1\" class=\"dataframe\">\n",
       "  <thead>\n",
       "    <tr style=\"text-align: right;\">\n",
       "      <th></th>\n",
       "      <th>Music</th>\n",
       "      <th>Slow songs or fast songs</th>\n",
       "      <th>Dance</th>\n",
       "      <th>Folk</th>\n",
       "      <th>Country</th>\n",
       "      <th>Classical music</th>\n",
       "      <th>Musical</th>\n",
       "      <th>Pop</th>\n",
       "      <th>Rock</th>\n",
       "      <th>Metal or Hardrock</th>\n",
       "      <th>...</th>\n",
       "      <th>Weight</th>\n",
       "      <th>Number of siblings</th>\n",
       "      <th>Gender</th>\n",
       "      <th>Left - right handed</th>\n",
       "      <th>Education</th>\n",
       "      <th>Only child</th>\n",
       "      <th>Village - town</th>\n",
       "      <th>House - block of flats</th>\n",
       "      <th>Drinking</th>\n",
       "      <th>Gender_2</th>\n",
       "    </tr>\n",
       "  </thead>\n",
       "  <tbody>\n",
       "    <tr>\n",
       "      <th>0</th>\n",
       "      <td>5.0</td>\n",
       "      <td>3.0</td>\n",
       "      <td>2.0</td>\n",
       "      <td>1.0</td>\n",
       "      <td>2.0</td>\n",
       "      <td>2.0</td>\n",
       "      <td>1.0</td>\n",
       "      <td>5.0</td>\n",
       "      <td>5.0</td>\n",
       "      <td>1.0</td>\n",
       "      <td>...</td>\n",
       "      <td>48.0</td>\n",
       "      <td>1.0</td>\n",
       "      <td>female</td>\n",
       "      <td>right handed</td>\n",
       "      <td>college/bachelor degree</td>\n",
       "      <td>no</td>\n",
       "      <td>village</td>\n",
       "      <td>block of flats</td>\n",
       "      <td>Yes</td>\n",
       "      <td>0</td>\n",
       "    </tr>\n",
       "    <tr>\n",
       "      <th>1</th>\n",
       "      <td>4.0</td>\n",
       "      <td>4.0</td>\n",
       "      <td>2.0</td>\n",
       "      <td>1.0</td>\n",
       "      <td>1.0</td>\n",
       "      <td>1.0</td>\n",
       "      <td>2.0</td>\n",
       "      <td>3.0</td>\n",
       "      <td>5.0</td>\n",
       "      <td>4.0</td>\n",
       "      <td>...</td>\n",
       "      <td>58.0</td>\n",
       "      <td>2.0</td>\n",
       "      <td>female</td>\n",
       "      <td>right handed</td>\n",
       "      <td>college/bachelor degree</td>\n",
       "      <td>no</td>\n",
       "      <td>city</td>\n",
       "      <td>block of flats</td>\n",
       "      <td>Yes</td>\n",
       "      <td>0</td>\n",
       "    </tr>\n",
       "    <tr>\n",
       "      <th>2</th>\n",
       "      <td>5.0</td>\n",
       "      <td>5.0</td>\n",
       "      <td>2.0</td>\n",
       "      <td>2.0</td>\n",
       "      <td>3.0</td>\n",
       "      <td>4.0</td>\n",
       "      <td>5.0</td>\n",
       "      <td>3.0</td>\n",
       "      <td>5.0</td>\n",
       "      <td>3.0</td>\n",
       "      <td>...</td>\n",
       "      <td>67.0</td>\n",
       "      <td>2.0</td>\n",
       "      <td>female</td>\n",
       "      <td>right handed</td>\n",
       "      <td>secondary school</td>\n",
       "      <td>no</td>\n",
       "      <td>city</td>\n",
       "      <td>block of flats</td>\n",
       "      <td>Yes</td>\n",
       "      <td>0</td>\n",
       "    </tr>\n",
       "    <tr>\n",
       "      <th>5</th>\n",
       "      <td>5.0</td>\n",
       "      <td>3.0</td>\n",
       "      <td>2.0</td>\n",
       "      <td>3.0</td>\n",
       "      <td>2.0</td>\n",
       "      <td>3.0</td>\n",
       "      <td>3.0</td>\n",
       "      <td>2.0</td>\n",
       "      <td>5.0</td>\n",
       "      <td>5.0</td>\n",
       "      <td>...</td>\n",
       "      <td>77.0</td>\n",
       "      <td>1.0</td>\n",
       "      <td>male</td>\n",
       "      <td>right handed</td>\n",
       "      <td>secondary school</td>\n",
       "      <td>no</td>\n",
       "      <td>city</td>\n",
       "      <td>block of flats</td>\n",
       "      <td>No</td>\n",
       "      <td>1</td>\n",
       "    </tr>\n",
       "    <tr>\n",
       "      <th>7</th>\n",
       "      <td>5.0</td>\n",
       "      <td>3.0</td>\n",
       "      <td>3.0</td>\n",
       "      <td>2.0</td>\n",
       "      <td>1.0</td>\n",
       "      <td>2.0</td>\n",
       "      <td>2.0</td>\n",
       "      <td>4.0</td>\n",
       "      <td>5.0</td>\n",
       "      <td>1.0</td>\n",
       "      <td>...</td>\n",
       "      <td>90.0</td>\n",
       "      <td>1.0</td>\n",
       "      <td>male</td>\n",
       "      <td>right handed</td>\n",
       "      <td>college/bachelor degree</td>\n",
       "      <td>no</td>\n",
       "      <td>city</td>\n",
       "      <td>house/bungalow</td>\n",
       "      <td>Yes</td>\n",
       "      <td>1</td>\n",
       "    </tr>\n",
       "  </tbody>\n",
       "</table>\n",
       "<p>5 rows × 151 columns</p>\n",
       "</div>"
      ],
      "text/plain": [
       "   Music  Slow songs or fast songs  Dance  Folk  Country  Classical music  \\\n",
       "0    5.0                       3.0    2.0   1.0      2.0              2.0   \n",
       "1    4.0                       4.0    2.0   1.0      1.0              1.0   \n",
       "2    5.0                       5.0    2.0   2.0      3.0              4.0   \n",
       "5    5.0                       3.0    2.0   3.0      2.0              3.0   \n",
       "7    5.0                       3.0    3.0   2.0      1.0              2.0   \n",
       "\n",
       "   Musical  Pop  Rock  Metal or Hardrock  ...  Weight  Number of siblings  \\\n",
       "0      1.0  5.0   5.0                1.0  ...    48.0                 1.0   \n",
       "1      2.0  3.0   5.0                4.0  ...    58.0                 2.0   \n",
       "2      5.0  3.0   5.0                3.0  ...    67.0                 2.0   \n",
       "5      3.0  2.0   5.0                5.0  ...    77.0                 1.0   \n",
       "7      2.0  4.0   5.0                1.0  ...    90.0                 1.0   \n",
       "\n",
       "   Gender  Left - right handed                Education  Only child  \\\n",
       "0  female         right handed  college/bachelor degree          no   \n",
       "1  female         right handed  college/bachelor degree          no   \n",
       "2  female         right handed         secondary school          no   \n",
       "5    male         right handed         secondary school          no   \n",
       "7    male         right handed  college/bachelor degree          no   \n",
       "\n",
       "   Village - town  House - block of flats  Drinking  Gender_2  \n",
       "0         village          block of flats       Yes         0  \n",
       "1            city          block of flats       Yes         0  \n",
       "2            city          block of flats       Yes         0  \n",
       "5            city          block of flats        No         1  \n",
       "7            city          house/bungalow       Yes         1  \n",
       "\n",
       "[5 rows x 151 columns]"
      ]
     },
     "execution_count": 11,
     "metadata": {},
     "output_type": "execute_result"
    }
   ],
   "source": [
    "# show the first 5 rows (i.e. head of the DataFrame)\n",
    "df.head(5)"
   ]
  },
  {
   "cell_type": "markdown",
   "metadata": {},
   "source": [
    "# Data exploration"
   ]
  },
  {
   "cell_type": "code",
   "execution_count": 12,
   "metadata": {},
   "outputs": [
    {
     "data": {
      "image/png": "[encoded data removed]",
      "text/plain": [
       "<Figure size 413.359x360 with 1 Axes>"
      ]
     },
     "metadata": {
      "needs_background": "light"
     },
     "output_type": "display_data"
    }
   ],
   "source": [
    "sns.catplot(x=\"Gender\", y=\"Metal or Hardrock\", hue=\"Drinking\", kind=\"swarm\", data=df);"
   ]
  },
  {
   "cell_type": "code",
   "execution_count": 13,
   "metadata": {},
   "outputs": [
    {
     "data": {
      "image/png": "[encoded data removed]",
      "text/plain": [
       "<Figure size 413.359x360 with 1 Axes>"
      ]
     },
     "metadata": {
      "needs_background": "light"
     },
     "output_type": "display_data"
    }
   ],
   "source": [
    "sns.catplot(x=\"Gender\", y=\"Age\", hue=\"Drinking\", kind=\"box\", data=df);"
   ]
  },
  {
   "cell_type": "code",
   "execution_count": 14,
   "metadata": {},
   "outputs": [
    {
     "data": {
      "image/png": "[encoded data removed]",
      "text/plain": [
       "<Figure size 413.359x360 with 1 Axes>"
      ]
     },
     "metadata": {
      "needs_background": "light"
     },
     "output_type": "display_data"
    }
   ],
   "source": [
    "sns.catplot(x=\"Gender\", y=\"Cheating in school\", hue=\"Drinking\", kind=\"violin\", data=df);"
   ]
  },
  {
   "cell_type": "code",
   "execution_count": 15,
   "metadata": {
    "scrolled": true
   },
   "outputs": [
    {
     "data": {
      "image/png": "[encoded data removed]",
      "text/plain": [
       "<Figure size 360x360 with 1 Axes>"
      ]
     },
     "metadata": {
      "needs_background": "light"
     },
     "output_type": "display_data"
    }
   ],
   "source": [
    "sns.catplot(x=\"Drinking\", y=\"Darkness\", kind=\"box\", data=df);"
   ]
  },
  {
   "cell_type": "code",
   "execution_count": 16,
   "metadata": {},
   "outputs": [
    {
     "data": {
      "image/png": "[encoded data removed]",
      "text/plain": [
       "<Figure size 360x360 with 1 Axes>"
      ]
     },
     "metadata": {
      "needs_background": "light"
     },
     "output_type": "display_data"
    }
   ],
   "source": [
    "sns.catplot(x=\"Drinking\", y=\"Cheating in school\", kind=\"box\", data=df);"
   ]
  },
  {
   "cell_type": "code",
   "execution_count": 17,
   "metadata": {
    "scrolled": true
   },
   "outputs": [
    {
     "data": {
      "image/png": "[encoded data removed]",
      "text/plain": [
       "<Figure size 360x360 with 1 Axes>"
      ]
     },
     "metadata": {
      "needs_background": "light"
     },
     "output_type": "display_data"
    }
   ],
   "source": [
    "sns.catplot(x=\"Drinking\", y=\"Finances\", kind=\"box\", data=df);"
   ]
  },
  {
   "cell_type": "code",
   "execution_count": 18,
   "metadata": {},
   "outputs": [
    {
     "data": {
      "image/png": "[encoded data removed]",
      "text/plain": [
       "<Figure size 360x360 with 1 Axes>"
      ]
     },
     "metadata": {
      "needs_background": "light"
     },
     "output_type": "display_data"
    }
   ],
   "source": [
    "sns.catplot(x=\"Drinking\", y=\"Healthy eating\", kind=\"box\", data=df);"
   ]
  },
  {
   "cell_type": "code",
   "execution_count": 19,
   "metadata": {},
   "outputs": [
    {
     "data": {
      "image/png": "[encoded data removed]",
      "text/plain": [
       "<Figure size 413.359x360 with 1 Axes>"
      ]
     },
     "metadata": {
      "needs_background": "light"
     },
     "output_type": "display_data"
    }
   ],
   "source": [
    "sns.catplot(x=\"Gender\", y=\"Weight\", hue=\"Drinking\", kind=\"swarm\", data=df);"
   ]
  },
  {
   "cell_type": "markdown",
   "metadata": {},
   "source": [
    "\n",
    "# Logistic regression model"
   ]
  },
  {
   "cell_type": "markdown",
   "metadata": {},
   "source": [
    "### Fit logistic regression"
   ]
  },
  {
   "cell_type": "code",
   "execution_count": 20,
   "metadata": {
    "scrolled": true
   },
   "outputs": [
    {
     "data": {
      "text/html": [
       "<div>\n",
       "<style scoped>\n",
       "    .dataframe tbody tr th:only-of-type {\n",
       "        vertical-align: middle;\n",
       "    }\n",
       "\n",
       "    .dataframe tbody tr th {\n",
       "        vertical-align: top;\n",
       "    }\n",
       "\n",
       "    .dataframe thead th {\n",
       "        text-align: right;\n",
       "    }\n",
       "</style>\n",
       "<table border=\"1\" class=\"dataframe\">\n",
       "  <thead>\n",
       "    <tr style=\"text-align: right;\">\n",
       "      <th></th>\n",
       "      <th>Cheating in school</th>\n",
       "      <th>Darkness</th>\n",
       "      <th>Finances</th>\n",
       "      <th>Healthy eating</th>\n",
       "      <th>Gender_2</th>\n",
       "      <th>Intercept</th>\n",
       "    </tr>\n",
       "  </thead>\n",
       "  <tbody>\n",
       "    <tr>\n",
       "      <th>0</th>\n",
       "      <td>2.0</td>\n",
       "      <td>1.0</td>\n",
       "      <td>3.0</td>\n",
       "      <td>4.0</td>\n",
       "      <td>0</td>\n",
       "      <td>1</td>\n",
       "    </tr>\n",
       "    <tr>\n",
       "      <th>1</th>\n",
       "      <td>4.0</td>\n",
       "      <td>1.0</td>\n",
       "      <td>3.0</td>\n",
       "      <td>3.0</td>\n",
       "      <td>0</td>\n",
       "      <td>1</td>\n",
       "    </tr>\n",
       "    <tr>\n",
       "      <th>2</th>\n",
       "      <td>3.0</td>\n",
       "      <td>1.0</td>\n",
       "      <td>2.0</td>\n",
       "      <td>3.0</td>\n",
       "      <td>0</td>\n",
       "      <td>1</td>\n",
       "    </tr>\n",
       "    <tr>\n",
       "      <th>5</th>\n",
       "      <td>4.0</td>\n",
       "      <td>2.0</td>\n",
       "      <td>2.0</td>\n",
       "      <td>2.0</td>\n",
       "      <td>1</td>\n",
       "      <td>1</td>\n",
       "    </tr>\n",
       "    <tr>\n",
       "      <th>7</th>\n",
       "      <td>5.0</td>\n",
       "      <td>4.0</td>\n",
       "      <td>3.0</td>\n",
       "      <td>2.0</td>\n",
       "      <td>1</td>\n",
       "      <td>1</td>\n",
       "    </tr>\n",
       "  </tbody>\n",
       "</table>\n",
       "</div>"
      ],
      "text/plain": [
       "   Cheating in school  Darkness  Finances  Healthy eating  Gender_2  Intercept\n",
       "0                 2.0       1.0       3.0             4.0         0          1\n",
       "1                 4.0       1.0       3.0             3.0         0          1\n",
       "2                 3.0       1.0       2.0             3.0         0          1\n",
       "5                 4.0       2.0       2.0             2.0         1          1\n",
       "7                 5.0       4.0       3.0             2.0         1          1"
      ]
     },
     "execution_count": 20,
     "metadata": {},
     "output_type": "execute_result"
    }
   ],
   "source": [
    "X = df[['Cheating in school', 'Darkness', 'Finances', 'Healthy eating', 'Gender_2']].copy()\n",
    "# Statsmodel needs a constant added manually\n",
    "X['Intercept'] = 1\n",
    "X.head()"
   ]
  },
  {
   "cell_type": "code",
   "execution_count": 21,
   "metadata": {},
   "outputs": [
    {
     "data": {
      "text/plain": [
       "0    1.0\n",
       "1    1.0\n",
       "2    1.0\n",
       "5    0.0\n",
       "Name: Yes, dtype: float64"
      ]
     },
     "execution_count": 21,
     "metadata": {},
     "output_type": "execute_result"
    }
   ],
   "source": [
    "y = pd.get_dummies(df['Drinking'])\n",
    "y = y['Yes'].astype('float')\n",
    "y.head(4)"
   ]
  },
  {
   "cell_type": "code",
   "execution_count": 22,
   "metadata": {},
   "outputs": [
    {
     "name": "stdout",
     "output_type": "stream",
     "text": [
      "Optimization terminated successfully.\n",
      "         Current function value: 0.563650\n",
      "         Iterations 6\n"
     ]
    },
    {
     "data": {
      "text/html": [
       "<table class=\"simpletable\">\n",
       "<caption>Logit Regression Results</caption>\n",
       "<tr>\n",
       "  <th>Dep. Variable:</th>        <td>Yes</td>       <th>  No. Observations:  </th>  <td>   226</td>  \n",
       "</tr>\n",
       "<tr>\n",
       "  <th>Model:</th>               <td>Logit</td>      <th>  Df Residuals:      </th>  <td>   220</td>  \n",
       "</tr>\n",
       "<tr>\n",
       "  <th>Method:</th>               <td>MLE</td>       <th>  Df Model:          </th>  <td>     5</td>  \n",
       "</tr>\n",
       "<tr>\n",
       "  <th>Date:</th>          <td>Fri, 07 Jun 2019</td> <th>  Pseudo R-squ.:     </th>  <td>0.1041</td>  \n",
       "</tr>\n",
       "<tr>\n",
       "  <th>Time:</th>              <td>19:52:52</td>     <th>  Log-Likelihood:    </th> <td> -127.38</td> \n",
       "</tr>\n",
       "<tr>\n",
       "  <th>converged:</th>           <td>True</td>       <th>  LL-Null:           </th> <td> -142.18</td> \n",
       "</tr>\n",
       "<tr>\n",
       "  <th> </th>                      <td> </td>        <th>  LLR p-value:       </th> <td>1.775e-05</td>\n",
       "</tr>\n",
       "</table>\n",
       "<table class=\"simpletable\">\n",
       "<tr>\n",
       "           <td></td>             <th>coef</th>     <th>std err</th>      <th>z</th>      <th>P>|z|</th>  <th>[0.025</th>    <th>0.975]</th>  \n",
       "</tr>\n",
       "<tr>\n",
       "  <th>Cheating in school</th> <td>    0.2339</td> <td>    0.116</td> <td>    2.016</td> <td> 0.044</td> <td>    0.006</td> <td>    0.461</td>\n",
       "</tr>\n",
       "<tr>\n",
       "  <th>Darkness</th>           <td>    0.3293</td> <td>    0.152</td> <td>    2.160</td> <td> 0.031</td> <td>    0.030</td> <td>    0.628</td>\n",
       "</tr>\n",
       "<tr>\n",
       "  <th>Finances</th>           <td>   -0.4760</td> <td>    0.132</td> <td>   -3.611</td> <td> 0.000</td> <td>   -0.734</td> <td>   -0.218</td>\n",
       "</tr>\n",
       "<tr>\n",
       "  <th>Healthy eating</th>     <td>   -0.0329</td> <td>    0.156</td> <td>   -0.211</td> <td> 0.833</td> <td>   -0.338</td> <td>    0.273</td>\n",
       "</tr>\n",
       "<tr>\n",
       "  <th>Gender_2</th>           <td>    0.3386</td> <td>    0.325</td> <td>    1.041</td> <td> 0.298</td> <td>   -0.299</td> <td>    0.976</td>\n",
       "</tr>\n",
       "<tr>\n",
       "  <th>Intercept</th>          <td>    0.5485</td> <td>    0.891</td> <td>    0.615</td> <td> 0.538</td> <td>   -1.198</td> <td>    2.295</td>\n",
       "</tr>\n",
       "</table>"
      ],
      "text/plain": [
       "<class 'statsmodels.iolib.summary.Summary'>\n",
       "\"\"\"\n",
       "                           Logit Regression Results                           \n",
       "==============================================================================\n",
       "Dep. Variable:                    Yes   No. Observations:                  226\n",
       "Model:                          Logit   Df Residuals:                      220\n",
       "Method:                           MLE   Df Model:                            5\n",
       "Date:                Fri, 07 Jun 2019   Pseudo R-squ.:                  0.1041\n",
       "Time:                        19:52:52   Log-Likelihood:                -127.38\n",
       "converged:                       True   LL-Null:                       -142.18\n",
       "                                        LLR p-value:                 1.775e-05\n",
       "======================================================================================\n",
       "                         coef    std err          z      P>|z|      [0.025      0.975]\n",
       "--------------------------------------------------------------------------------------\n",
       "Cheating in school     0.2339      0.116      2.016      0.044       0.006       0.461\n",
       "Darkness               0.3293      0.152      2.160      0.031       0.030       0.628\n",
       "Finances              -0.4760      0.132     -3.611      0.000      -0.734      -0.218\n",
       "Healthy eating        -0.0329      0.156     -0.211      0.833      -0.338       0.273\n",
       "Gender_2               0.3386      0.325      1.041      0.298      -0.299       0.976\n",
       "Intercept              0.5485      0.891      0.615      0.538      -1.198       2.295\n",
       "======================================================================================\n",
       "\"\"\""
      ]
     },
     "execution_count": 22,
     "metadata": {},
     "output_type": "execute_result"
    }
   ],
   "source": [
    "# Define and fit logistic regression model\n",
    "logit = sm.Logit(y, X).fit()\n",
    "logit.summary()"
   ]
  },
  {
   "cell_type": "markdown",
   "metadata": {},
   "source": [
    "### Update Model"
   ]
  },
  {
   "cell_type": "code",
   "execution_count": 23,
   "metadata": {},
   "outputs": [
    {
     "name": "stdout",
     "output_type": "stream",
     "text": [
      "Optimization terminated successfully.\n",
      "         Current function value: 0.566348\n",
      "         Iterations 5\n"
     ]
    },
    {
     "data": {
      "text/html": [
       "<table class=\"simpletable\">\n",
       "<caption>Logit Regression Results</caption>\n",
       "<tr>\n",
       "  <th>Dep. Variable:</th>        <td>Yes</td>       <th>  No. Observations:  </th>  <td>   226</td>  \n",
       "</tr>\n",
       "<tr>\n",
       "  <th>Model:</th>               <td>Logit</td>      <th>  Df Residuals:      </th>  <td>   222</td>  \n",
       "</tr>\n",
       "<tr>\n",
       "  <th>Method:</th>               <td>MLE</td>       <th>  Df Model:          </th>  <td>     3</td>  \n",
       "</tr>\n",
       "<tr>\n",
       "  <th>Date:</th>          <td>Fri, 07 Jun 2019</td> <th>  Pseudo R-squ.:     </th>  <td>0.09977</td> \n",
       "</tr>\n",
       "<tr>\n",
       "  <th>Time:</th>              <td>19:52:52</td>     <th>  Log-Likelihood:    </th> <td> -127.99</td> \n",
       "</tr>\n",
       "<tr>\n",
       "  <th>converged:</th>           <td>True</td>       <th>  LL-Null:           </th> <td> -142.18</td> \n",
       "</tr>\n",
       "<tr>\n",
       "  <th> </th>                      <td> </td>        <th>  LLR p-value:       </th> <td>3.035e-06</td>\n",
       "</tr>\n",
       "</table>\n",
       "<table class=\"simpletable\">\n",
       "<tr>\n",
       "           <td></td>             <th>coef</th>     <th>std err</th>      <th>z</th>      <th>P>|z|</th>  <th>[0.025</th>    <th>0.975]</th>  \n",
       "</tr>\n",
       "<tr>\n",
       "  <th>Cheating in school</th> <td>    0.2326</td> <td>    0.114</td> <td>    2.035</td> <td> 0.042</td> <td>    0.009</td> <td>    0.457</td>\n",
       "</tr>\n",
       "<tr>\n",
       "  <th>Darkness</th>           <td>    0.2842</td> <td>    0.145</td> <td>    1.955</td> <td> 0.051</td> <td>   -0.001</td> <td>    0.569</td>\n",
       "</tr>\n",
       "<tr>\n",
       "  <th>Finances</th>           <td>   -0.4939</td> <td>    0.130</td> <td>   -3.794</td> <td> 0.000</td> <td>   -0.749</td> <td>   -0.239</td>\n",
       "</tr>\n",
       "<tr>\n",
       "  <th>Intercept</th>          <td>    0.7669</td> <td>    0.651</td> <td>    1.178</td> <td> 0.239</td> <td>   -0.509</td> <td>    2.043</td>\n",
       "</tr>\n",
       "</table>"
      ],
      "text/plain": [
       "<class 'statsmodels.iolib.summary.Summary'>\n",
       "\"\"\"\n",
       "                           Logit Regression Results                           \n",
       "==============================================================================\n",
       "Dep. Variable:                    Yes   No. Observations:                  226\n",
       "Model:                          Logit   Df Residuals:                      222\n",
       "Method:                           MLE   Df Model:                            3\n",
       "Date:                Fri, 07 Jun 2019   Pseudo R-squ.:                 0.09977\n",
       "Time:                        19:52:52   Log-Likelihood:                -127.99\n",
       "converged:                       True   LL-Null:                       -142.18\n",
       "                                        LLR p-value:                 3.035e-06\n",
       "======================================================================================\n",
       "                         coef    std err          z      P>|z|      [0.025      0.975]\n",
       "--------------------------------------------------------------------------------------\n",
       "Cheating in school     0.2326      0.114      2.035      0.042       0.009       0.457\n",
       "Darkness               0.2842      0.145      1.955      0.051      -0.001       0.569\n",
       "Finances              -0.4939      0.130     -3.794      0.000      -0.749      -0.239\n",
       "Intercept              0.7669      0.651      1.178      0.239      -0.509       2.043\n",
       "======================================================================================\n",
       "\"\"\""
      ]
     },
     "execution_count": 23,
     "metadata": {},
     "output_type": "execute_result"
    }
   ],
   "source": [
    "# Define and fit logistic regression model\n",
    "X = X.drop(X[['Healthy eating','Gender_2']], axis=1)\n",
    "logit = sm.Logit(y, X).fit()\n",
    "logit.summary()"
   ]
  },
  {
   "cell_type": "markdown",
   "metadata": {},
   "source": [
    "### Prediction"
   ]
  },
  {
   "cell_type": "code",
   "execution_count": 24,
   "metadata": {},
   "outputs": [
    {
     "data": {
      "text/html": [
       "<div>\n",
       "<style scoped>\n",
       "    .dataframe tbody tr th:only-of-type {\n",
       "        vertical-align: middle;\n",
       "    }\n",
       "\n",
       "    .dataframe tbody tr th {\n",
       "        vertical-align: top;\n",
       "    }\n",
       "\n",
       "    .dataframe thead th {\n",
       "        text-align: right;\n",
       "    }\n",
       "</style>\n",
       "<table border=\"1\" class=\"dataframe\">\n",
       "  <thead>\n",
       "    <tr style=\"text-align: right;\">\n",
       "      <th></th>\n",
       "      <th>Music</th>\n",
       "      <th>Slow songs or fast songs</th>\n",
       "      <th>Dance</th>\n",
       "      <th>Folk</th>\n",
       "      <th>Country</th>\n",
       "      <th>Classical music</th>\n",
       "      <th>Musical</th>\n",
       "      <th>Pop</th>\n",
       "      <th>Rock</th>\n",
       "      <th>Metal or Hardrock</th>\n",
       "      <th>...</th>\n",
       "      <th>Number of siblings</th>\n",
       "      <th>Gender</th>\n",
       "      <th>Left - right handed</th>\n",
       "      <th>Education</th>\n",
       "      <th>Only child</th>\n",
       "      <th>Village - town</th>\n",
       "      <th>House - block of flats</th>\n",
       "      <th>Drinking</th>\n",
       "      <th>Gender_2</th>\n",
       "      <th>Probability</th>\n",
       "    </tr>\n",
       "  </thead>\n",
       "  <tbody>\n",
       "    <tr>\n",
       "      <th>0</th>\n",
       "      <td>5.0</td>\n",
       "      <td>3.0</td>\n",
       "      <td>2.0</td>\n",
       "      <td>1.0</td>\n",
       "      <td>2.0</td>\n",
       "      <td>2.0</td>\n",
       "      <td>1.0</td>\n",
       "      <td>5.0</td>\n",
       "      <td>5.0</td>\n",
       "      <td>1.0</td>\n",
       "      <td>...</td>\n",
       "      <td>1.0</td>\n",
       "      <td>female</td>\n",
       "      <td>right handed</td>\n",
       "      <td>college/bachelor degree</td>\n",
       "      <td>no</td>\n",
       "      <td>village</td>\n",
       "      <td>block of flats</td>\n",
       "      <td>Yes</td>\n",
       "      <td>0</td>\n",
       "      <td>0.508648</td>\n",
       "    </tr>\n",
       "    <tr>\n",
       "      <th>1</th>\n",
       "      <td>4.0</td>\n",
       "      <td>4.0</td>\n",
       "      <td>2.0</td>\n",
       "      <td>1.0</td>\n",
       "      <td>1.0</td>\n",
       "      <td>1.0</td>\n",
       "      <td>2.0</td>\n",
       "      <td>3.0</td>\n",
       "      <td>5.0</td>\n",
       "      <td>4.0</td>\n",
       "      <td>...</td>\n",
       "      <td>2.0</td>\n",
       "      <td>female</td>\n",
       "      <td>right handed</td>\n",
       "      <td>college/bachelor degree</td>\n",
       "      <td>no</td>\n",
       "      <td>city</td>\n",
       "      <td>block of flats</td>\n",
       "      <td>Yes</td>\n",
       "      <td>0</td>\n",
       "      <td>0.622393</td>\n",
       "    </tr>\n",
       "    <tr>\n",
       "      <th>2</th>\n",
       "      <td>5.0</td>\n",
       "      <td>5.0</td>\n",
       "      <td>2.0</td>\n",
       "      <td>2.0</td>\n",
       "      <td>3.0</td>\n",
       "      <td>4.0</td>\n",
       "      <td>5.0</td>\n",
       "      <td>3.0</td>\n",
       "      <td>5.0</td>\n",
       "      <td>3.0</td>\n",
       "      <td>...</td>\n",
       "      <td>2.0</td>\n",
       "      <td>female</td>\n",
       "      <td>right handed</td>\n",
       "      <td>secondary school</td>\n",
       "      <td>no</td>\n",
       "      <td>city</td>\n",
       "      <td>block of flats</td>\n",
       "      <td>Yes</td>\n",
       "      <td>0</td>\n",
       "      <td>0.681581</td>\n",
       "    </tr>\n",
       "    <tr>\n",
       "      <th>5</th>\n",
       "      <td>5.0</td>\n",
       "      <td>3.0</td>\n",
       "      <td>2.0</td>\n",
       "      <td>3.0</td>\n",
       "      <td>2.0</td>\n",
       "      <td>3.0</td>\n",
       "      <td>3.0</td>\n",
       "      <td>2.0</td>\n",
       "      <td>5.0</td>\n",
       "      <td>5.0</td>\n",
       "      <td>...</td>\n",
       "      <td>1.0</td>\n",
       "      <td>male</td>\n",
       "      <td>right handed</td>\n",
       "      <td>secondary school</td>\n",
       "      <td>no</td>\n",
       "      <td>city</td>\n",
       "      <td>block of flats</td>\n",
       "      <td>No</td>\n",
       "      <td>1</td>\n",
       "      <td>0.782080</td>\n",
       "    </tr>\n",
       "    <tr>\n",
       "      <th>7</th>\n",
       "      <td>5.0</td>\n",
       "      <td>3.0</td>\n",
       "      <td>3.0</td>\n",
       "      <td>2.0</td>\n",
       "      <td>1.0</td>\n",
       "      <td>2.0</td>\n",
       "      <td>2.0</td>\n",
       "      <td>4.0</td>\n",
       "      <td>5.0</td>\n",
       "      <td>1.0</td>\n",
       "      <td>...</td>\n",
       "      <td>1.0</td>\n",
       "      <td>male</td>\n",
       "      <td>right handed</td>\n",
       "      <td>college/bachelor degree</td>\n",
       "      <td>no</td>\n",
       "      <td>city</td>\n",
       "      <td>house/bungalow</td>\n",
       "      <td>Yes</td>\n",
       "      <td>1</td>\n",
       "      <td>0.829903</td>\n",
       "    </tr>\n",
       "  </tbody>\n",
       "</table>\n",
       "<p>5 rows × 152 columns</p>\n",
       "</div>"
      ],
      "text/plain": [
       "   Music  Slow songs or fast songs  Dance  Folk  Country  Classical music  \\\n",
       "0    5.0                       3.0    2.0   1.0      2.0              2.0   \n",
       "1    4.0                       4.0    2.0   1.0      1.0              1.0   \n",
       "2    5.0                       5.0    2.0   2.0      3.0              4.0   \n",
       "5    5.0                       3.0    2.0   3.0      2.0              3.0   \n",
       "7    5.0                       3.0    3.0   2.0      1.0              2.0   \n",
       "\n",
       "   Musical  Pop  Rock  Metal or Hardrock  ...  Number of siblings  Gender  \\\n",
       "0      1.0  5.0   5.0                1.0  ...                 1.0  female   \n",
       "1      2.0  3.0   5.0                4.0  ...                 2.0  female   \n",
       "2      5.0  3.0   5.0                3.0  ...                 2.0  female   \n",
       "5      3.0  2.0   5.0                5.0  ...                 1.0    male   \n",
       "7      2.0  4.0   5.0                1.0  ...                 1.0    male   \n",
       "\n",
       "   Left - right handed                Education  Only child  Village - town  \\\n",
       "0         right handed  college/bachelor degree          no         village   \n",
       "1         right handed  college/bachelor degree          no            city   \n",
       "2         right handed         secondary school          no            city   \n",
       "5         right handed         secondary school          no            city   \n",
       "7         right handed  college/bachelor degree          no            city   \n",
       "\n",
       "   House - block of flats  Drinking  Gender_2  Probability  \n",
       "0          block of flats       Yes         0     0.508648  \n",
       "1          block of flats       Yes         0     0.622393  \n",
       "2          block of flats       Yes         0     0.681581  \n",
       "5          block of flats        No         1     0.782080  \n",
       "7          house/bungalow       Yes         1     0.829903  \n",
       "\n",
       "[5 rows x 152 columns]"
      ]
     },
     "execution_count": 24,
     "metadata": {},
     "output_type": "execute_result"
    }
   ],
   "source": [
    "# Predict and join probabilty to original dataframe\n",
    "df['Probability'] = logit.predict(X)\n",
    "df.head(5)"
   ]
  },
  {
   "cell_type": "code",
   "execution_count": 25,
   "metadata": {},
   "outputs": [
    {
     "data": {
      "text/html": [
       "<div>\n",
       "<style scoped>\n",
       "    .dataframe tbody tr th:only-of-type {\n",
       "        vertical-align: middle;\n",
       "    }\n",
       "\n",
       "    .dataframe tbody tr th {\n",
       "        vertical-align: top;\n",
       "    }\n",
       "\n",
       "    .dataframe thead th {\n",
       "        text-align: right;\n",
       "    }\n",
       "</style>\n",
       "<table border=\"1\" class=\"dataframe\">\n",
       "  <thead>\n",
       "    <tr style=\"text-align: right;\">\n",
       "      <th></th>\n",
       "      <th>Music</th>\n",
       "      <th>Slow songs or fast songs</th>\n",
       "      <th>Dance</th>\n",
       "      <th>Folk</th>\n",
       "      <th>Country</th>\n",
       "      <th>Classical music</th>\n",
       "      <th>Musical</th>\n",
       "      <th>Pop</th>\n",
       "      <th>Rock</th>\n",
       "      <th>Metal or Hardrock</th>\n",
       "      <th>...</th>\n",
       "      <th>Only child</th>\n",
       "      <th>Village - town</th>\n",
       "      <th>House - block of flats</th>\n",
       "      <th>Drinking</th>\n",
       "      <th>Gender_2</th>\n",
       "      <th>Probability</th>\n",
       "      <th>Threshold 0.4</th>\n",
       "      <th>Threshold 0.5</th>\n",
       "      <th>Threshold 0.6</th>\n",
       "      <th>Threshold 0.7</th>\n",
       "    </tr>\n",
       "  </thead>\n",
       "  <tbody>\n",
       "    <tr>\n",
       "      <th>0</th>\n",
       "      <td>5.0</td>\n",
       "      <td>3.0</td>\n",
       "      <td>2.0</td>\n",
       "      <td>1.0</td>\n",
       "      <td>2.0</td>\n",
       "      <td>2.0</td>\n",
       "      <td>1.0</td>\n",
       "      <td>5.0</td>\n",
       "      <td>5.0</td>\n",
       "      <td>1.0</td>\n",
       "      <td>...</td>\n",
       "      <td>no</td>\n",
       "      <td>village</td>\n",
       "      <td>block of flats</td>\n",
       "      <td>Yes</td>\n",
       "      <td>0</td>\n",
       "      <td>0.508648</td>\n",
       "      <td>Yes</td>\n",
       "      <td>Yes</td>\n",
       "      <td>No</td>\n",
       "      <td>No</td>\n",
       "    </tr>\n",
       "    <tr>\n",
       "      <th>1</th>\n",
       "      <td>4.0</td>\n",
       "      <td>4.0</td>\n",
       "      <td>2.0</td>\n",
       "      <td>1.0</td>\n",
       "      <td>1.0</td>\n",
       "      <td>1.0</td>\n",
       "      <td>2.0</td>\n",
       "      <td>3.0</td>\n",
       "      <td>5.0</td>\n",
       "      <td>4.0</td>\n",
       "      <td>...</td>\n",
       "      <td>no</td>\n",
       "      <td>city</td>\n",
       "      <td>block of flats</td>\n",
       "      <td>Yes</td>\n",
       "      <td>0</td>\n",
       "      <td>0.622393</td>\n",
       "      <td>Yes</td>\n",
       "      <td>Yes</td>\n",
       "      <td>Yes</td>\n",
       "      <td>No</td>\n",
       "    </tr>\n",
       "    <tr>\n",
       "      <th>2</th>\n",
       "      <td>5.0</td>\n",
       "      <td>5.0</td>\n",
       "      <td>2.0</td>\n",
       "      <td>2.0</td>\n",
       "      <td>3.0</td>\n",
       "      <td>4.0</td>\n",
       "      <td>5.0</td>\n",
       "      <td>3.0</td>\n",
       "      <td>5.0</td>\n",
       "      <td>3.0</td>\n",
       "      <td>...</td>\n",
       "      <td>no</td>\n",
       "      <td>city</td>\n",
       "      <td>block of flats</td>\n",
       "      <td>Yes</td>\n",
       "      <td>0</td>\n",
       "      <td>0.681581</td>\n",
       "      <td>Yes</td>\n",
       "      <td>Yes</td>\n",
       "      <td>Yes</td>\n",
       "      <td>No</td>\n",
       "    </tr>\n",
       "    <tr>\n",
       "      <th>5</th>\n",
       "      <td>5.0</td>\n",
       "      <td>3.0</td>\n",
       "      <td>2.0</td>\n",
       "      <td>3.0</td>\n",
       "      <td>2.0</td>\n",
       "      <td>3.0</td>\n",
       "      <td>3.0</td>\n",
       "      <td>2.0</td>\n",
       "      <td>5.0</td>\n",
       "      <td>5.0</td>\n",
       "      <td>...</td>\n",
       "      <td>no</td>\n",
       "      <td>city</td>\n",
       "      <td>block of flats</td>\n",
       "      <td>No</td>\n",
       "      <td>1</td>\n",
       "      <td>0.782080</td>\n",
       "      <td>Yes</td>\n",
       "      <td>Yes</td>\n",
       "      <td>Yes</td>\n",
       "      <td>Yes</td>\n",
       "    </tr>\n",
       "    <tr>\n",
       "      <th>7</th>\n",
       "      <td>5.0</td>\n",
       "      <td>3.0</td>\n",
       "      <td>3.0</td>\n",
       "      <td>2.0</td>\n",
       "      <td>1.0</td>\n",
       "      <td>2.0</td>\n",
       "      <td>2.0</td>\n",
       "      <td>4.0</td>\n",
       "      <td>5.0</td>\n",
       "      <td>1.0</td>\n",
       "      <td>...</td>\n",
       "      <td>no</td>\n",
       "      <td>city</td>\n",
       "      <td>house/bungalow</td>\n",
       "      <td>Yes</td>\n",
       "      <td>1</td>\n",
       "      <td>0.829903</td>\n",
       "      <td>Yes</td>\n",
       "      <td>Yes</td>\n",
       "      <td>Yes</td>\n",
       "      <td>Yes</td>\n",
       "    </tr>\n",
       "  </tbody>\n",
       "</table>\n",
       "<p>5 rows × 156 columns</p>\n",
       "</div>"
      ],
      "text/plain": [
       "   Music  Slow songs or fast songs  Dance  Folk  Country  Classical music  \\\n",
       "0    5.0                       3.0    2.0   1.0      2.0              2.0   \n",
       "1    4.0                       4.0    2.0   1.0      1.0              1.0   \n",
       "2    5.0                       5.0    2.0   2.0      3.0              4.0   \n",
       "5    5.0                       3.0    2.0   3.0      2.0              3.0   \n",
       "7    5.0                       3.0    3.0   2.0      1.0              2.0   \n",
       "\n",
       "   Musical  Pop  Rock  Metal or Hardrock  ...  Only child  Village - town  \\\n",
       "0      1.0  5.0   5.0                1.0  ...          no         village   \n",
       "1      2.0  3.0   5.0                4.0  ...          no            city   \n",
       "2      5.0  3.0   5.0                3.0  ...          no            city   \n",
       "5      3.0  2.0   5.0                5.0  ...          no            city   \n",
       "7      2.0  4.0   5.0                1.0  ...          no            city   \n",
       "\n",
       "   House - block of flats  Drinking  Gender_2  Probability  Threshold 0.4  \\\n",
       "0          block of flats       Yes         0     0.508648            Yes   \n",
       "1          block of flats       Yes         0     0.622393            Yes   \n",
       "2          block of flats       Yes         0     0.681581            Yes   \n",
       "5          block of flats        No         1     0.782080            Yes   \n",
       "7          house/bungalow       Yes         1     0.829903            Yes   \n",
       "\n",
       "   Threshold 0.5  Threshold 0.6  Threshold 0.7  \n",
       "0            Yes             No             No  \n",
       "1            Yes            Yes             No  \n",
       "2            Yes            Yes             No  \n",
       "5            Yes            Yes            Yes  \n",
       "7            Yes            Yes            Yes  \n",
       "\n",
       "[5 rows x 156 columns]"
      ]
     },
     "execution_count": 25,
     "metadata": {},
     "output_type": "execute_result"
    }
   ],
   "source": [
    "# Use thresholds to discretize Probability\n",
    "df['Threshold 0.4'] = np.where(df['Probability'] > 0.4, 'Yes', 'No')\n",
    "df['Threshold 0.5'] = np.where(df['Probability'] > 0.5, 'Yes', 'No')\n",
    "df['Threshold 0.6'] = np.where(df['Probability'] > 0.6, 'Yes', 'No')\n",
    "df['Threshold 0.7'] = np.where(df['Probability'] > 0.7, 'Yes', 'No')\n",
    "df.head(5)"
   ]
  },
  {
   "cell_type": "markdown",
   "metadata": {},
   "source": [
    "### Confusion Matrix & Metrics"
   ]
  },
  {
   "cell_type": "code",
   "execution_count": 26,
   "metadata": {},
   "outputs": [],
   "source": [
    "# write a function to calculate confusion matrix for different thresholds\n",
    "def print_metrics(df, predicted):\n",
    "    # Header\n",
    "    print('-'*50)\n",
    "    print(f'Metrics for: {predicted}\\n')\n",
    "    \n",
    "    # Confusion Matrix\n",
    "    y_actu = pd.Series(df['Drinking'], name='Actual')\n",
    "    y_pred = pd.Series(df[predicted], name='Predicted')\n",
    "    df_conf = pd.crosstab(y_actu, y_pred)\n",
    "    display(df_conf)\n",
    "    \n",
    "    # Confusion Matrix to variables:\n",
    "    pop = df_conf.values.sum()\n",
    "    tp = df_conf['Yes']['Yes']\n",
    "    tn = df_conf['No']['No']\n",
    "    fp = df_conf['Yes']['No']\n",
    "    fn = df_conf['No']['Yes']\n",
    "    \n",
    "    # Metrics\n",
    "    accuracy = (tp + tn) / pop\n",
    "    precision = tp / (tp + fp)\n",
    "    recall = tp / (tp + fn)\n",
    "    f1_score = 2 * ((precision * recall) / (precision + recall))\n",
    "    print(f'Accuracy:  {accuracy:.4f}')\n",
    "    print(f'Precision: {precision:.4f}')\n",
    "    print(f'Recall:    {recall:.4f}')\n",
    "    print(f'F1 Score:  {f1_score:.4f} \\n')"
   ]
  },
  {
   "cell_type": "code",
   "execution_count": 27,
   "metadata": {},
   "outputs": [
    {
     "name": "stdout",
     "output_type": "stream",
     "text": [
      "--------------------------------------------------\n",
      "Metrics for: Threshold 0.4\n",
      "\n"
     ]
    },
    {
     "data": {
      "text/html": [
       "<div>\n",
       "<style scoped>\n",
       "    .dataframe tbody tr th:only-of-type {\n",
       "        vertical-align: middle;\n",
       "    }\n",
       "\n",
       "    .dataframe tbody tr th {\n",
       "        vertical-align: top;\n",
       "    }\n",
       "\n",
       "    .dataframe thead th {\n",
       "        text-align: right;\n",
       "    }\n",
       "</style>\n",
       "<table border=\"1\" class=\"dataframe\">\n",
       "  <thead>\n",
       "    <tr style=\"text-align: right;\">\n",
       "      <th>Predicted</th>\n",
       "      <th>No</th>\n",
       "      <th>Yes</th>\n",
       "    </tr>\n",
       "    <tr>\n",
       "      <th>Actual</th>\n",
       "      <th></th>\n",
       "      <th></th>\n",
       "    </tr>\n",
       "  </thead>\n",
       "  <tbody>\n",
       "    <tr>\n",
       "      <th>No</th>\n",
       "      <td>11</td>\n",
       "      <td>62</td>\n",
       "    </tr>\n",
       "    <tr>\n",
       "      <th>Yes</th>\n",
       "      <td>8</td>\n",
       "      <td>145</td>\n",
       "    </tr>\n",
       "  </tbody>\n",
       "</table>\n",
       "</div>"
      ],
      "text/plain": [
       "Predicted  No  Yes\n",
       "Actual            \n",
       "No         11   62\n",
       "Yes         8  145"
      ]
     },
     "metadata": {},
     "output_type": "display_data"
    },
    {
     "name": "stdout",
     "output_type": "stream",
     "text": [
      "Accuracy:  0.6903\n",
      "Precision: 0.7005\n",
      "Recall:    0.9477\n",
      "F1 Score:  0.8056 \n",
      "\n",
      "--------------------------------------------------\n",
      "Metrics for: Threshold 0.5\n",
      "\n"
     ]
    },
    {
     "data": {
      "text/html": [
       "<div>\n",
       "<style scoped>\n",
       "    .dataframe tbody tr th:only-of-type {\n",
       "        vertical-align: middle;\n",
       "    }\n",
       "\n",
       "    .dataframe tbody tr th {\n",
       "        vertical-align: top;\n",
       "    }\n",
       "\n",
       "    .dataframe thead th {\n",
       "        text-align: right;\n",
       "    }\n",
       "</style>\n",
       "<table border=\"1\" class=\"dataframe\">\n",
       "  <thead>\n",
       "    <tr style=\"text-align: right;\">\n",
       "      <th>Predicted</th>\n",
       "      <th>No</th>\n",
       "      <th>Yes</th>\n",
       "    </tr>\n",
       "    <tr>\n",
       "      <th>Actual</th>\n",
       "      <th></th>\n",
       "      <th></th>\n",
       "    </tr>\n",
       "  </thead>\n",
       "  <tbody>\n",
       "    <tr>\n",
       "      <th>No</th>\n",
       "      <td>17</td>\n",
       "      <td>56</td>\n",
       "    </tr>\n",
       "    <tr>\n",
       "      <th>Yes</th>\n",
       "      <td>14</td>\n",
       "      <td>139</td>\n",
       "    </tr>\n",
       "  </tbody>\n",
       "</table>\n",
       "</div>"
      ],
      "text/plain": [
       "Predicted  No  Yes\n",
       "Actual            \n",
       "No         17   56\n",
       "Yes        14  139"
      ]
     },
     "metadata": {},
     "output_type": "display_data"
    },
    {
     "name": "stdout",
     "output_type": "stream",
     "text": [
      "Accuracy:  0.6903\n",
      "Precision: 0.7128\n",
      "Recall:    0.9085\n",
      "F1 Score:  0.7989 \n",
      "\n",
      "--------------------------------------------------\n",
      "Metrics for: Threshold 0.6\n",
      "\n"
     ]
    },
    {
     "data": {
      "text/html": [
       "<div>\n",
       "<style scoped>\n",
       "    .dataframe tbody tr th:only-of-type {\n",
       "        vertical-align: middle;\n",
       "    }\n",
       "\n",
       "    .dataframe tbody tr th {\n",
       "        vertical-align: top;\n",
       "    }\n",
       "\n",
       "    .dataframe thead th {\n",
       "        text-align: right;\n",
       "    }\n",
       "</style>\n",
       "<table border=\"1\" class=\"dataframe\">\n",
       "  <thead>\n",
       "    <tr style=\"text-align: right;\">\n",
       "      <th>Predicted</th>\n",
       "      <th>No</th>\n",
       "      <th>Yes</th>\n",
       "    </tr>\n",
       "    <tr>\n",
       "      <th>Actual</th>\n",
       "      <th></th>\n",
       "      <th></th>\n",
       "    </tr>\n",
       "  </thead>\n",
       "  <tbody>\n",
       "    <tr>\n",
       "      <th>No</th>\n",
       "      <td>37</td>\n",
       "      <td>36</td>\n",
       "    </tr>\n",
       "    <tr>\n",
       "      <th>Yes</th>\n",
       "      <td>32</td>\n",
       "      <td>121</td>\n",
       "    </tr>\n",
       "  </tbody>\n",
       "</table>\n",
       "</div>"
      ],
      "text/plain": [
       "Predicted  No  Yes\n",
       "Actual            \n",
       "No         37   36\n",
       "Yes        32  121"
      ]
     },
     "metadata": {},
     "output_type": "display_data"
    },
    {
     "name": "stdout",
     "output_type": "stream",
     "text": [
      "Accuracy:  0.6991\n",
      "Precision: 0.7707\n",
      "Recall:    0.7908\n",
      "F1 Score:  0.7806 \n",
      "\n",
      "--------------------------------------------------\n",
      "Metrics for: Threshold 0.7\n",
      "\n"
     ]
    },
    {
     "data": {
      "text/html": [
       "<div>\n",
       "<style scoped>\n",
       "    .dataframe tbody tr th:only-of-type {\n",
       "        vertical-align: middle;\n",
       "    }\n",
       "\n",
       "    .dataframe tbody tr th {\n",
       "        vertical-align: top;\n",
       "    }\n",
       "\n",
       "    .dataframe thead th {\n",
       "        text-align: right;\n",
       "    }\n",
       "</style>\n",
       "<table border=\"1\" class=\"dataframe\">\n",
       "  <thead>\n",
       "    <tr style=\"text-align: right;\">\n",
       "      <th>Predicted</th>\n",
       "      <th>No</th>\n",
       "      <th>Yes</th>\n",
       "    </tr>\n",
       "    <tr>\n",
       "      <th>Actual</th>\n",
       "      <th></th>\n",
       "      <th></th>\n",
       "    </tr>\n",
       "  </thead>\n",
       "  <tbody>\n",
       "    <tr>\n",
       "      <th>No</th>\n",
       "      <td>53</td>\n",
       "      <td>20</td>\n",
       "    </tr>\n",
       "    <tr>\n",
       "      <th>Yes</th>\n",
       "      <td>63</td>\n",
       "      <td>90</td>\n",
       "    </tr>\n",
       "  </tbody>\n",
       "</table>\n",
       "</div>"
      ],
      "text/plain": [
       "Predicted  No  Yes\n",
       "Actual            \n",
       "No         53   20\n",
       "Yes        63   90"
      ]
     },
     "metadata": {},
     "output_type": "display_data"
    },
    {
     "name": "stdout",
     "output_type": "stream",
     "text": [
      "Accuracy:  0.6327\n",
      "Precision: 0.8182\n",
      "Recall:    0.5882\n",
      "F1 Score:  0.6844 \n",
      "\n"
     ]
    }
   ],
   "source": [
    "print_metrics(df, 'Threshold 0.4')\n",
    "print_metrics(df, 'Threshold 0.5')\n",
    "print_metrics(df, 'Threshold 0.6')\n",
    "print_metrics(df, 'Threshold 0.7')"
   ]
  },
  {
   "cell_type": "markdown",
   "metadata": {},
   "source": [
    "Usually we would not compute the confusion matrix and the metrics by ourself. Instead, we can use sklearn's modules. \n",
    "Review the documentation of sklearn's [confusion matrix](https://scikit-learn.org/stable/modules/generated/sklearn.metrics.confusion_matrix.html) and [precision_recall_fscore_support](https://scikit-learn.org/stable/modules/generated/sklearn.metrics.precision_recall_fscore_support.html#sklearn.metrics.precision_recall_fscore_support)"
   ]
  },
  {
   "cell_type": "code",
   "execution_count": 28,
   "metadata": {},
   "outputs": [
    {
     "data": {
      "text/plain": [
       "array([[53, 20],\n",
       "       [63, 90]])"
      ]
     },
     "execution_count": 28,
     "metadata": {},
     "output_type": "execute_result"
    }
   ],
   "source": [
    "from sklearn.metrics import confusion_matrix\n",
    "# We take threshold 0.4 as an example\n",
    "\n",
    "y_true = pd.Series(df['Drinking'])\n",
    "y_pred = pd.Series(df['Threshold 0.7'])\n",
    "\n",
    "confusion_matrix(y_true, y_pred)"
   ]
  },
  {
   "cell_type": "code",
   "execution_count": 29,
   "metadata": {},
   "outputs": [
    {
     "data": {
      "text/plain": [
       "0.6327433628318584"
      ]
     },
     "execution_count": 29,
     "metadata": {},
     "output_type": "execute_result"
    }
   ],
   "source": [
    "from sklearn.metrics import accuracy_score\n",
    "\n",
    "accuracy_score(y_true, y_pred)"
   ]
  },
  {
   "cell_type": "code",
   "execution_count": 30,
   "metadata": {},
   "outputs": [
    {
     "data": {
      "text/plain": [
       "(array([0.45689655, 0.81818182]),\n",
       " array([0.7260274 , 0.58823529]),\n",
       " array([0.56084656, 0.68441065]),\n",
       " array([ 73, 153]))"
      ]
     },
     "execution_count": 30,
     "metadata": {},
     "output_type": "execute_result"
    }
   ],
   "source": [
    "from sklearn.metrics import precision_recall_fscore_support\n",
    "\n",
    "precision_recall_fscore_support(y_true, y_pred)"
   ]
  },
  {
   "cell_type": "markdown",
   "metadata": {},
   "source": [
    "### Use Train & Test for modelling and evaluation"
   ]
  },
  {
   "cell_type": "code",
   "execution_count": 31,
   "metadata": {},
   "outputs": [
    {
     "name": "stdout",
     "output_type": "stream",
     "text": [
      "Trainingset size: 158\n",
      "Testingset size: 68\n"
     ]
    }
   ],
   "source": [
    "# Split Dataset\n",
    "train_X, test_X, train_y, test_y = train_test_split(X.copy(), y.copy(), test_size=0.3)\n",
    "print(f'Trainingset size: {len(train_X)}')\n",
    "print(f'Testingset size: {len(test_X)}')"
   ]
  },
  {
   "cell_type": "code",
   "execution_count": 32,
   "metadata": {},
   "outputs": [
    {
     "name": "stdout",
     "output_type": "stream",
     "text": [
      "Optimization terminated successfully.\n",
      "         Current function value: 0.580221\n",
      "         Iterations 5\n"
     ]
    }
   ],
   "source": [
    "# Train logistic regression model with training set\n",
    "logit = sm.Logit(train_y, train_X).fit()"
   ]
  },
  {
   "cell_type": "code",
   "execution_count": 33,
   "metadata": {},
   "outputs": [],
   "source": [
    "# Predict test data\n",
    "test_X['Probability'] = logit.predict(test_X)"
   ]
  },
  {
   "cell_type": "code",
   "execution_count": 34,
   "metadata": {
    "scrolled": true
   },
   "outputs": [
    {
     "data": {
      "text/html": [
       "<div>\n",
       "<style scoped>\n",
       "    .dataframe tbody tr th:only-of-type {\n",
       "        vertical-align: middle;\n",
       "    }\n",
       "\n",
       "    .dataframe tbody tr th {\n",
       "        vertical-align: top;\n",
       "    }\n",
       "\n",
       "    .dataframe thead th {\n",
       "        text-align: right;\n",
       "    }\n",
       "</style>\n",
       "<table border=\"1\" class=\"dataframe\">\n",
       "  <thead>\n",
       "    <tr style=\"text-align: right;\">\n",
       "      <th></th>\n",
       "      <th>Cheating in school</th>\n",
       "      <th>Darkness</th>\n",
       "      <th>Finances</th>\n",
       "      <th>Intercept</th>\n",
       "      <th>Probability</th>\n",
       "      <th>Drinking</th>\n",
       "      <th>Threshold 0.5</th>\n",
       "    </tr>\n",
       "  </thead>\n",
       "  <tbody>\n",
       "    <tr>\n",
       "      <th>295</th>\n",
       "      <td>5.0</td>\n",
       "      <td>3.0</td>\n",
       "      <td>3.0</td>\n",
       "      <td>1</td>\n",
       "      <td>0.786340</td>\n",
       "      <td>Yes</td>\n",
       "      <td>Yes</td>\n",
       "    </tr>\n",
       "    <tr>\n",
       "      <th>132</th>\n",
       "      <td>5.0</td>\n",
       "      <td>2.0</td>\n",
       "      <td>5.0</td>\n",
       "      <td>1</td>\n",
       "      <td>0.576524</td>\n",
       "      <td>No</td>\n",
       "      <td>Yes</td>\n",
       "    </tr>\n",
       "    <tr>\n",
       "      <th>96</th>\n",
       "      <td>2.0</td>\n",
       "      <td>1.0</td>\n",
       "      <td>1.0</td>\n",
       "      <td>1</td>\n",
       "      <td>0.686032</td>\n",
       "      <td>Yes</td>\n",
       "      <td>Yes</td>\n",
       "    </tr>\n",
       "    <tr>\n",
       "      <th>230</th>\n",
       "      <td>5.0</td>\n",
       "      <td>3.0</td>\n",
       "      <td>3.0</td>\n",
       "      <td>1</td>\n",
       "      <td>0.786340</td>\n",
       "      <td>Yes</td>\n",
       "      <td>Yes</td>\n",
       "    </tr>\n",
       "    <tr>\n",
       "      <th>761</th>\n",
       "      <td>5.0</td>\n",
       "      <td>1.0</td>\n",
       "      <td>1.0</td>\n",
       "      <td>1</td>\n",
       "      <td>0.787215</td>\n",
       "      <td>Yes</td>\n",
       "      <td>Yes</td>\n",
       "    </tr>\n",
       "    <tr>\n",
       "      <th>716</th>\n",
       "      <td>2.0</td>\n",
       "      <td>2.0</td>\n",
       "      <td>5.0</td>\n",
       "      <td>1</td>\n",
       "      <td>0.445699</td>\n",
       "      <td>Yes</td>\n",
       "      <td>No</td>\n",
       "    </tr>\n",
       "    <tr>\n",
       "      <th>816</th>\n",
       "      <td>1.0</td>\n",
       "      <td>3.0</td>\n",
       "      <td>2.0</td>\n",
       "      <td>1</td>\n",
       "      <td>0.717735</td>\n",
       "      <td>Yes</td>\n",
       "      <td>Yes</td>\n",
       "    </tr>\n",
       "  </tbody>\n",
       "</table>\n",
       "</div>"
      ],
      "text/plain": [
       "     Cheating in school  Darkness  Finances  Intercept  Probability Drinking  \\\n",
       "295                 5.0       3.0       3.0          1     0.786340      Yes   \n",
       "132                 5.0       2.0       5.0          1     0.576524       No   \n",
       "96                  2.0       1.0       1.0          1     0.686032      Yes   \n",
       "230                 5.0       3.0       3.0          1     0.786340      Yes   \n",
       "761                 5.0       1.0       1.0          1     0.787215      Yes   \n",
       "716                 2.0       2.0       5.0          1     0.445699      Yes   \n",
       "816                 1.0       3.0       2.0          1     0.717735      Yes   \n",
       "\n",
       "    Threshold 0.5  \n",
       "295           Yes  \n",
       "132           Yes  \n",
       "96            Yes  \n",
       "230           Yes  \n",
       "761           Yes  \n",
       "716            No  \n",
       "816           Yes  "
      ]
     },
     "execution_count": 34,
     "metadata": {},
     "output_type": "execute_result"
    }
   ],
   "source": [
    "# Calculate metrics\n",
    "test_X['Drinking'] = np.where(test_y == 1.0, 'Yes', 'No')  # Join actual values\n",
    "test_X['Threshold 0.5'] = np.where(test_X['Probability'] > 0.5, 'Yes', 'No')  # Calc categories by threshold\n",
    "test_X.head(7)"
   ]
  },
  {
   "cell_type": "code",
   "execution_count": 35,
   "metadata": {
    "scrolled": true
   },
   "outputs": [
    {
     "name": "stdout",
     "output_type": "stream",
     "text": [
      "--------------------------------------------------\n",
      "Metrics for: Threshold 0.5\n",
      "\n"
     ]
    },
    {
     "data": {
      "text/html": [
       "<div>\n",
       "<style scoped>\n",
       "    .dataframe tbody tr th:only-of-type {\n",
       "        vertical-align: middle;\n",
       "    }\n",
       "\n",
       "    .dataframe tbody tr th {\n",
       "        vertical-align: top;\n",
       "    }\n",
       "\n",
       "    .dataframe thead th {\n",
       "        text-align: right;\n",
       "    }\n",
       "</style>\n",
       "<table border=\"1\" class=\"dataframe\">\n",
       "  <thead>\n",
       "    <tr style=\"text-align: right;\">\n",
       "      <th>Predicted</th>\n",
       "      <th>No</th>\n",
       "      <th>Yes</th>\n",
       "    </tr>\n",
       "    <tr>\n",
       "      <th>Actual</th>\n",
       "      <th></th>\n",
       "      <th></th>\n",
       "    </tr>\n",
       "  </thead>\n",
       "  <tbody>\n",
       "    <tr>\n",
       "      <th>No</th>\n",
       "      <td>6</td>\n",
       "      <td>18</td>\n",
       "    </tr>\n",
       "    <tr>\n",
       "      <th>Yes</th>\n",
       "      <td>3</td>\n",
       "      <td>41</td>\n",
       "    </tr>\n",
       "  </tbody>\n",
       "</table>\n",
       "</div>"
      ],
      "text/plain": [
       "Predicted  No  Yes\n",
       "Actual            \n",
       "No          6   18\n",
       "Yes         3   41"
      ]
     },
     "metadata": {},
     "output_type": "display_data"
    },
    {
     "name": "stdout",
     "output_type": "stream",
     "text": [
      "Accuracy:  0.6912\n",
      "Precision: 0.6949\n",
      "Recall:    0.9318\n",
      "F1 Score:  0.7961 \n",
      "\n"
     ]
    }
   ],
   "source": [
    "print_metrics(test_X, 'Threshold 0.5')"
   ]
  }
 ],
 "metadata": {
  "kernelspec": {
   "display_name": "Python 3",
   "language": "python",
   "name": "python3"
  },
  "language_info": {
   "codemirror_mode": {
    "name": "ipython",
    "version": 3
   },
   "file_extension": ".py",
   "mimetype": "text/x-python",
   "name": "python",
   "nbconvert_exporter": "python",
   "pygments_lexer": "ipython3",
   "version": "3.6.8"
  },
  "toc": {
   "base_numbering": 1,
   "nav_menu": {},
   "number_sections": true,
   "sideBar": true,
   "skip_h1_title": true,
   "title_cell": "Table of Contents",
   "title_sidebar": "Contents",
   "toc_cell": true,
   "toc_position": {},
   "toc_section_display": true,
   "toc_window_display": false
  },
  "varInspector": {
   "cols": {
    "lenName": 16,
    "lenType": 16,
    "lenVar": 40
   },
   "kernels_config": {
    "python": {
     "delete_cmd_postfix": "",
     "delete_cmd_prefix": "del ",
     "library": "var_list.py",
     "varRefreshCmd": "print(var_dic_list())"
    },
    "r": {
     "delete_cmd_postfix": ") ",
     "delete_cmd_prefix": "rm(",
     "library": "var_list.r",
     "varRefreshCmd": "cat(var_dic_list()) "
    }
   },
   "types_to_exclude": [
    "module",
    "function",
    "builtin_function_or_method",
    "instance",
    "_Feature"
   ],
   "window_display": false
  }
 },
 "nbformat": 4,
 "nbformat_minor": 2
}
