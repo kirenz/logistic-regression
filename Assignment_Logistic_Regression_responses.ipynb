{
 "cells": [
  {
   "cell_type": "markdown",
   "metadata": {},
   "source": [
    "**Problem Set Logistic Regression**<br/>\n",
    "Prof. Dr. Jan Kirenz <br/>\n",
    "Hochschule der Medien Stuttgart"
   ]
  },
  {
   "cell_type": "code",
   "execution_count": 1,
   "metadata": {},
   "outputs": [],
   "source": [
    "import pandas as pd\n",
    "import numpy as np\n",
    "import matplotlib.pyplot as plt\n",
    "import seaborn as sns\n",
    "import statsmodels.api as sm\n",
    "from scipy.stats import chi2_contingency, fisher_exact\n",
    "from sklearn.model_selection import train_test_split"
   ]
  },
  {
   "cell_type": "markdown",
   "metadata": {},
   "source": [
    "Name:\n",
    "\n",
    "Surname:"
   ]
  },
  {
   "cell_type": "markdown",
   "metadata": {
    "toc": true
   },
   "source": [
    "<h1>Table of Contents<span class=\"tocSkip\"></span></h1>\n",
    "<div class=\"toc\"><ul class=\"toc-item\"><li><span><a href=\"#Data-preparation:\" data-toc-modified-id=\"Data-preparation:-1\"><span class=\"toc-item-num\">1&nbsp;&nbsp;</span>Data preparation:</a></span><ul class=\"toc-item\"><li><span><a href=\"#Import-data\" data-toc-modified-id=\"Import-data-1.1\"><span class=\"toc-item-num\">1.1&nbsp;&nbsp;</span>Import data</a></span></li><li><span><a href=\"#Dependent-variable\" data-toc-modified-id=\"Dependent-variable-1.2\"><span class=\"toc-item-num\">1.2&nbsp;&nbsp;</span>Dependent variable</a></span></li><li><span><a href=\"#Transform-variables\" data-toc-modified-id=\"Transform-variables-1.3\"><span class=\"toc-item-num\">1.3&nbsp;&nbsp;</span>Transform variables</a></span></li></ul></li><li><span><a href=\"#Data-exploration\" data-toc-modified-id=\"Data-exploration-2\"><span class=\"toc-item-num\">2&nbsp;&nbsp;</span>Data exploration</a></span></li><li><span><a href=\"#Logistic-regression-model\" data-toc-modified-id=\"Logistic-regression-model-3\"><span class=\"toc-item-num\">3&nbsp;&nbsp;</span>Logistic regression model</a></span><ul class=\"toc-item\"><li><span><a href=\"#Fit-logistic-regression\" data-toc-modified-id=\"Fit-logistic-regression-3.1\"><span class=\"toc-item-num\">3.1&nbsp;&nbsp;</span>Fit logistic regression</a></span></li><li><span><a href=\"#Update-model-(if-necessary)\" data-toc-modified-id=\"Update-model-(if-necessary)-3.2\"><span class=\"toc-item-num\">3.2&nbsp;&nbsp;</span>Update model (if necessary)</a></span></li><li><span><a href=\"#Prediction\" data-toc-modified-id=\"Prediction-3.3\"><span class=\"toc-item-num\">3.3&nbsp;&nbsp;</span>Prediction</a></span></li><li><span><a href=\"#Confusion-matrix-&amp;-metrics\" data-toc-modified-id=\"Confusion-matrix-&amp;-metrics-3.4\"><span class=\"toc-item-num\">3.4&nbsp;&nbsp;</span>Confusion matrix &amp; metrics</a></span></li><li><span><a href=\"#Use-train-&amp;-test-dataset-for-modelling-and-evaluation\" data-toc-modified-id=\"Use-train-&amp;-test-dataset-for-modelling-and-evaluation-3.5\"><span class=\"toc-item-num\">3.5&nbsp;&nbsp;</span>Use train &amp; test dataset for modelling and evaluation</a></span></li></ul></li></ul></div>"
   ]
  },
  {
   "cell_type": "markdown",
   "metadata": {},
   "source": [
    "# Assignment: Logistic Regression \n",
    "\n",
    "**Task Description**\n",
    "\n",
    "In this assignment, we analyse the relationship between drinking behavior and some predictor variables in the data `responses.csv`. In particular, we want to classify which respondents are likely to be \"heavy drinker\". \n",
    "\n",
    "The data file `responses.csv` contains the data from a questionnaire and consists of 1010 rows (people) and 150 columns (139 integer and 11 categorical). See the data description PDF for a detailed overview of the data.\n",
    "\n",
    "\n",
    "## Data preparation:\n",
    "\n",
    "### Import data\n",
    "\n",
    "Import the data (responses.csv), call the DataFrame `df` and delete all missing values with  `df.dropna(inplace=True)`. Next, get an overview of the categorical variable `Alcohol` with `df.Alcohol.value_counts()`. We only want to keep respondents who `drink a lot` or `never` drink alcohol. Therefore, delete all respondents who are `social drinkers` with `df = df[df.Alcohol != 'social drinker']`. \n",
    "\n",
    "### Dependent variable\n",
    "\n",
    "Create a new categorical variable called `Drinking`, where all respondents who drink a lot are labeled as `Yes` otherwise `No`: `df['Drinking'] = np.where(df['Alcohol']=='drink a lot', 'Yes', 'No')` . Delete the variable `Alcohol`. \n",
    "    \n",
    "### Transform variables  \n",
    "  \n",
    "Change the data type of variable `Gender` in a numerical format: in particular, use `df['Gender_2'] = pd.factorize( df['Gender'] )[0]` to create a new variable `Gender_2` with the desired format (so it may be used as predictor in the logistic regression).  \n",
    "\n",
    "\n",
    "## Data exploration\n",
    "\n",
    "In this task, you need to determine which variables you should include as predictors in your logist regression model (choose at least 4). Remember that your model should classify which of the respondent's is either a heavy drinker or does not drink a all. This means you need to analyze the relationship between the response (`Drinking`) and possible predictor variables, which could explain someones drinking behavior. See the PDF *responses_variable_description* for possible questions and use `df.columns.tolist()`to identify the name of the corresponding variable in the DataFrame. \n",
    "\n",
    "\n",
    "Hint: \n",
    "\n",
    "Look for variables where you can identify a difference between responses from heavy drinker and non drinker. Use visualisations to analyze the reletionship between the variables. Choose at least 4 predictor variables for your model.\n",
    "\n",
    "In our data, you mainly have to deal with discrete categorical values (i.e. Likert-scale responses). In seaborn, there are several different ways to visualize a relationship between variables involving categorical data. Review [seaborn's documentation about plotting categorical data](https://seaborn.pydata.org/tutorial/categorical.html).\n",
    "\n",
    "\n",
    "Here are some examples to get you started:\n",
    "\n",
    "`sns.catplot(x=\"Drinking\", y=\"Darkness\", kind=\"box\", data=df);`\n",
    "\n",
    "`sns.catplot(x=\"Gender\", y=\"Age\", hue=\"Drinking\", kind=\"box\", data=df);`\n",
    "\n",
    "`sns.catplot(x=\"Gender\", y=\"Cheating in school\", hue=\"Drinking\", kind=\"violin\", data=df);`\n",
    "\n",
    "    \n",
    "    \n",
    "## Logistic regression model\n",
    "\n",
    "\n",
    "### Fit logistic regression\n",
    "\n",
    "Fit a logistic regression model with the (at least four) predictor variables of your choice  (response: `Drinking`).  \n",
    "\n",
    "\n",
    "### Update model (if necessary)\n",
    "\n",
    "Now that you see the results of the logisitc regression, explain wether you would recommend to exclude a predictor variable from your model (from task 2a)). Update your model if necessary.\n",
    "\n",
    "### Prediction\n",
    "\n",
    "Use your updated model and predict the probability that a respondent drinks a lot. Classify a respondent as drinker (with label 'Yes') if the predicted probability exceeds:\n",
    "\n",
    "    - c1): 0.4 (i.e. threshold = 0.4) \n",
    "    - c2): 0.5 (i.e. threshold = 0.5)\n",
    "    - c3): 0.7 (i.e. threshold = 0.7). \n",
    "    \n",
    "    Otherwise classify the respondent as non-drinker (with label 'No').\n",
    "\n",
    "\n",
    "### Confusion matrix & metrics\n",
    "\n",
    "Compute the confusion matrix for every threshold (c1), c2) and c3)) in order to determine how many observations were correctly or incorrectly classified. Furthermore, use the results from the confusion matrix and create the following variables: true positive; true negative; false positive and false negative. Use these variables to calculate the following metrics: \"Accuracy\", Precision\" (what proportion of positive identifications was actually correct?), \"Recall\" (what proportion of actual positives was identified correctly) and the F1 score (measure of a test's accuracy) for the thresholds in c1), c2) and c3). Which threshold would you recommend? \n",
    "\n",
    "Hints: **Precision** is defined as the number of true positives over the number of true positives plus the number of false positives. **Recall** is defined as the number of true positives over the number of true positives plus the number of false negatives. These two quantities are related to the **F1 score**, which is defined as the harmonic mean of precision and recall: $F1 = 2* ((Precision * Recall)/(Precision + Recall)).$\n",
    "\n",
    "### Use train & test dataset for modelling and evaluation\n",
    "\n",
    "Fit the logistic regression model using a training data set. Compute the confusion matrix and accuracy for the held out data (test data size = 30%). Use a threshold of 0.7."
   ]
  }
 ],
 "metadata": {
  "kernelspec": {
   "display_name": "Python 3",
   "language": "python",
   "name": "python3"
  },
  "language_info": {
   "codemirror_mode": {
    "name": "ipython",
    "version": 3
   },
   "file_extension": ".py",
   "mimetype": "text/x-python",
   "name": "python",
   "nbconvert_exporter": "python",
   "pygments_lexer": "ipython3",
   "version": "3.6.5"
  },
  "toc": {
   "base_numbering": 1,
   "nav_menu": {},
   "number_sections": true,
   "sideBar": true,
   "skip_h1_title": true,
   "title_cell": "Table of Contents",
   "title_sidebar": "Contents",
   "toc_cell": true,
   "toc_position": {},
   "toc_section_display": true,
   "toc_window_display": false
  }
 },
 "nbformat": 4,
 "nbformat_minor": 2
}
